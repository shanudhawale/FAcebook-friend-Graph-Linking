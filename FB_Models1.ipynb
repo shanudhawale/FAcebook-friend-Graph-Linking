{
 "cells": [
  {
   "cell_type": "markdown",
   "metadata": {
    "colab_type": "text",
    "id": "naWvqMEMHglO"
   },
   "source": [
    "<p style=\"font-size:32px;text-align:center\"> <b>Social network Graph Link Prediction - Facebook Challenge</b> </p>"
   ]
  },
  {
   "cell_type": "code",
   "execution_count": 4,
   "metadata": {
    "colab": {},
    "colab_type": "code",
    "id": "9wb9N5RzHglP"
   },
   "outputs": [],
   "source": [
    "#Importing Libraries\n",
    "# please do go through this python notebook: \n",
    "import warnings\n",
    "warnings.filterwarnings(\"ignore\")\n",
    "\n",
    "import csv\n",
    "import pandas as pd#pandas to create small dataframes \n",
    "import datetime #Convert to unix time\n",
    "import time #Convert to unix time\n",
    "# if numpy is not installed already : pip3 install numpy\n",
    "import numpy as np#Do aritmetic operations on arrays\n",
    "# matplotlib: used to plot graphs\n",
    "import matplotlib\n",
    "import matplotlib.pylab as plt\n",
    "import seaborn as sns#Plots\n",
    "from matplotlib import rcParams#Size of plots  \n",
    "from sklearn.cluster import MiniBatchKMeans, KMeans#Clustering\n",
    "import math\n",
    "import pickle\n",
    "import os\n",
    "# to install xgboost: pip3 install xgboost\n",
    "import xgboost as xgb\n",
    "\n",
    "import warnings\n",
    "import networkx as nx\n",
    "import pdb\n",
    "import pickle\n",
    "from pandas import HDFStore,DataFrame\n",
    "from pandas import read_hdf\n",
    "from scipy.sparse.linalg import svds, eigs\n",
    "import gc\n",
    "from tqdm import tqdm\n",
    "from sklearn.ensemble import RandomForestClassifier\n",
    "from sklearn.metrics import f1_score"
   ]
  },
  {
   "cell_type": "code",
   "execution_count": 5,
   "metadata": {
    "colab": {},
    "colab_type": "code",
    "id": "XC4OJFKkHglU"
   },
   "outputs": [],
   "source": [
    "#reading\n",
    "from pandas import read_hdf\n",
    "df_final_train = read_hdf('storage_sample_stage4.h5', 'train_df',mode='r')\n",
    "df_final_test = read_hdf('storage_sample_stage4.h5', 'test_df',mode='r')"
   ]
  },
  {
   "cell_type": "code",
   "execution_count": 6,
   "metadata": {
    "colab": {},
    "colab_type": "code",
    "id": "5Gm-BHRkHglW",
    "outputId": "d2c2294c-113e-4fdb-d3e5-dc167dcf5fbc"
   },
   "outputs": [
    {
     "data": {
      "text/plain": [
       "Index(['source_node', 'destination_node', 'indicator_link',\n",
       "       'jaccard_followers', 'jaccard_followees', 'cosine_followers',\n",
       "       'cosine_followees', 'num_followers_s', 'num_followees_s',\n",
       "       'num_followees_d', 'inter_followers', 'inter_followees', 'adar_index',\n",
       "       'follows_back', 'same_comp', 'shortest_path', 'weight_in', 'weight_out',\n",
       "       'weight_f1', 'weight_f2', 'weight_f3', 'weight_f4', 'page_rank_s',\n",
       "       'page_rank_d', 'katz_s', 'katz_d', 'hubs_s', 'hubs_d', 'authorities_s',\n",
       "       'authorities_d', 'svd_u_s_1', 'svd_u_s_2', 'svd_u_s_3', 'svd_u_s_4',\n",
       "       'svd_u_s_5', 'svd_u_s_6', 'svd_u_d_1', 'svd_u_d_2', 'svd_u_d_3',\n",
       "       'svd_u_d_4', 'svd_u_d_5', 'svd_u_d_6', 'svd_v_s_1', 'svd_v_s_2',\n",
       "       'svd_v_s_3', 'svd_v_s_4', 'svd_v_s_5', 'svd_v_s_6', 'svd_v_d_1',\n",
       "       'svd_v_d_2', 'svd_v_d_3', 'svd_v_d_4', 'svd_v_d_5', 'svd_v_d_6'],\n",
       "      dtype='object')"
      ]
     },
     "execution_count": 6,
     "metadata": {},
     "output_type": "execute_result"
    }
   ],
   "source": [
    "df_final_train.columns"
   ]
  },
  {
   "cell_type": "code",
   "execution_count": 7,
   "metadata": {
    "colab": {},
    "colab_type": "code",
    "id": "XRW7VZ4AHglc"
   },
   "outputs": [],
   "source": [
    "y_train = df_final_train.indicator_link\n",
    "y_test = df_final_test.indicator_link"
   ]
  },
  {
   "cell_type": "code",
   "execution_count": 8,
   "metadata": {
    "colab": {},
    "colab_type": "code",
    "id": "4lj9M_qtHglf"
   },
   "outputs": [],
   "source": [
    "df_final_train.drop(['source_node', 'destination_node','indicator_link'],axis=1,inplace=True)\n",
    "df_final_test.drop(['source_node', 'destination_node','indicator_link'],axis=1,inplace=True)"
   ]
  },
  {
   "cell_type": "code",
   "execution_count": 9,
   "metadata": {
    "colab": {},
    "colab_type": "code",
    "id": "lIEc91uVHgli",
    "outputId": "31f04b72-ebe5-4b13-ccca-a5ae3bc4f09c"
   },
   "outputs": [
    {
     "name": "stdout",
     "output_type": "stream",
     "text": [
      "Estimators =  10 Train Score 0.9063252121775113 test Score 0.8745605278006858\n",
      "Estimators =  50 Train Score 0.9205725512208812 test Score 0.9125653355634538\n",
      "Estimators =  100 Train Score 0.9238690848446947 test Score 0.9141199714153599\n",
      "Estimators =  250 Train Score 0.9239789348046863 test Score 0.9188007232664732\n",
      "Estimators =  450 Train Score 0.9237190618658074 test Score 0.9161507685828595\n"
     ]
    },
    {
     "data": {
      "text/plain": [
       "Text(0.5, 1.0, 'Estimators vs score at depth of 5')"
      ]
     },
     "execution_count": 9,
     "metadata": {},
     "output_type": "execute_result"
    },
    {
     "data": {
      "image/png": "[encoded data removed]",
      "text/plain": [
       "<Figure size 432x288 with 1 Axes>"
      ]
     },
     "metadata": {
      "needs_background": "light"
     },
     "output_type": "display_data"
    }
   ],
   "source": [
    "estimators = [10,50,100,250,450]\n",
    "train_scores = []\n",
    "test_scores = []\n",
    "for i in estimators:\n",
    "    clf = RandomForestClassifier(bootstrap=True, class_weight=None, criterion='gini',\n",
    "            max_depth=5, max_features='auto', max_leaf_nodes=None,\n",
    "            min_impurity_decrease=0.0, min_impurity_split=None,\n",
    "            min_samples_leaf=52, min_samples_split=120,\n",
    "            min_weight_fraction_leaf=0.0, n_estimators=i, n_jobs=-1,random_state=25,verbose=0,warm_start=False)\n",
    "    clf.fit(df_final_train,y_train)\n",
    "    train_sc = f1_score(y_train,clf.predict(df_final_train))\n",
    "    test_sc = f1_score(y_test,clf.predict(df_final_test))\n",
    "    test_scores.append(test_sc)\n",
    "    train_scores.append(train_sc)\n",
    "    print('Estimators = ',i,'Train Score',train_sc,'test Score',test_sc)\n",
    "plt.plot(estimators,train_scores,label='Train Score')\n",
    "plt.plot(estimators,test_scores,label='Test Score')\n",
    "plt.xlabel('Estimators')\n",
    "plt.ylabel('Score')\n",
    "plt.title('Estimators vs score at depth of 5')"
   ]
  },
  {
   "cell_type": "code",
   "execution_count": 10,
   "metadata": {
    "colab": {},
    "colab_type": "code",
    "id": "nZxhrTdQHglm",
    "outputId": "53382b8e-148d-4c22-8066-d9807fb27012"
   },
   "outputs": [
    {
     "name": "stdout",
     "output_type": "stream",
     "text": [
      "depth =  3 Train Score 0.8916120853581238 test Score 0.8687934859875491\n",
      "depth =  9 Train Score 0.9572226298198419 test Score 0.9222953031452904\n",
      "depth =  11 Train Score 0.9623451340902863 test Score 0.9252318758281279\n",
      "depth =  15 Train Score 0.9634267621927706 test Score 0.9231288356496615\n",
      "depth =  20 Train Score 0.9631629153051491 test Score 0.9235051024711141\n",
      "depth =  35 Train Score 0.9634333127085721 test Score 0.9235601652753184\n",
      "depth =  50 Train Score 0.9634333127085721 test Score 0.9235601652753184\n",
      "depth =  70 Train Score 0.9634333127085721 test Score 0.9235601652753184\n",
      "depth =  130 Train Score 0.9634333127085721 test Score 0.9235601652753184\n"
     ]
    },
    {
     "data": {
      "image/png": "[encoded data removed]",
      "text/plain": [
       "<Figure size 432x288 with 1 Axes>"
      ]
     },
     "metadata": {
      "needs_background": "light"
     },
     "output_type": "display_data"
    }
   ],
   "source": [
    "depths = [3,9,11,15,20,35,50,70,130]\n",
    "train_scores = []\n",
    "test_scores = []\n",
    "for i in depths:\n",
    "    clf = RandomForestClassifier(bootstrap=True, class_weight=None, criterion='gini',\n",
    "            max_depth=i, max_features='auto', max_leaf_nodes=None,\n",
    "            min_impurity_decrease=0.0, min_impurity_split=None,\n",
    "            min_samples_leaf=52, min_samples_split=120,\n",
    "            min_weight_fraction_leaf=0.0, n_estimators=115, n_jobs=-1,random_state=25,verbose=0,warm_start=False)\n",
    "    clf.fit(df_final_train,y_train)\n",
    "    train_sc = f1_score(y_train,clf.predict(df_final_train))\n",
    "    test_sc = f1_score(y_test,clf.predict(df_final_test))\n",
    "    test_scores.append(test_sc)\n",
    "    train_scores.append(train_sc)\n",
    "    print('depth = ',i,'Train Score',train_sc,'test Score',test_sc)\n",
    "plt.plot(depths,train_scores,label='Train Score')\n",
    "plt.plot(depths,test_scores,label='Test Score')\n",
    "plt.xlabel('Depth')\n",
    "plt.ylabel('Score')\n",
    "plt.title('Depth vs score at depth of 5 at estimators = 115')\n",
    "plt.show()"
   ]
  },
  {
   "cell_type": "code",
   "execution_count": 11,
   "metadata": {
    "colab": {},
    "colab_type": "code",
    "id": "MrG1Lfl3Hglq",
    "outputId": "7b6e3c97-8d66-455d-cd79-213f824719cc"
   },
   "outputs": [
    {
     "name": "stdout",
     "output_type": "stream",
     "text": [
      "mean test scores [0.96225043 0.96215493 0.96057081 0.96194015 0.96330005]\n",
      "mean train scores [0.96294922 0.96266735 0.96115674 0.96263457 0.96430539]\n"
     ]
    }
   ],
   "source": [
    "from sklearn.metrics import f1_score\n",
    "from sklearn.ensemble import RandomForestClassifier\n",
    "from sklearn.metrics import f1_score\n",
    "from sklearn.model_selection import RandomizedSearchCV\n",
    "from scipy.stats import randint as sp_randint\n",
    "from scipy.stats import uniform\n",
    "\n",
    "param_dist = {\"n_estimators\":sp_randint(105,125),\n",
    "              \"max_depth\": sp_randint(10,15),\n",
    "              \"min_samples_split\": sp_randint(110,190),\n",
    "              \"min_samples_leaf\": sp_randint(25,65)}\n",
    "\n",
    "clf = RandomForestClassifier(random_state=25,n_jobs=-1)\n",
    "\n",
    "rf_random = RandomizedSearchCV(clf, param_distributions=param_dist,\n",
    "                                   n_iter=5,cv=10,scoring='f1',random_state=25)\n",
    "\n",
    "rf_random.fit(df_final_train,y_train)\n",
    "print('mean test scores',rf_random.cv_results_['mean_test_score'])\n",
    "print('mean train scores',rf_random.cv_results_['mean_train_score'])"
   ]
  },
  {
   "cell_type": "code",
   "execution_count": 12,
   "metadata": {
    "colab": {},
    "colab_type": "code",
    "id": "hme3j_diHglu",
    "outputId": "581ccc02-7770-4a94-d003-257af4e81570"
   },
   "outputs": [
    {
     "name": "stdout",
     "output_type": "stream",
     "text": [
      "RandomForestClassifier(bootstrap=True, class_weight=None, criterion='gini',\n",
      "            max_depth=14, max_features='auto', max_leaf_nodes=None,\n",
      "            min_impurity_decrease=0.0, min_impurity_split=None,\n",
      "            min_samples_leaf=28, min_samples_split=111,\n",
      "            min_weight_fraction_leaf=0.0, n_estimators=121, n_jobs=-1,\n",
      "            oob_score=False, random_state=25, verbose=0, warm_start=False)\n"
     ]
    }
   ],
   "source": [
    "print(rf_random.best_estimator_)"
   ]
  },
  {
   "cell_type": "code",
   "execution_count": 13,
   "metadata": {
    "colab": {},
    "colab_type": "code",
    "id": "qu4KIEweHglx"
   },
   "outputs": [],
   "source": [
    "clf = RandomForestClassifier(bootstrap=True, class_weight=None, criterion='gini',\n",
    "            max_depth=14, max_features='auto', max_leaf_nodes=None,\n",
    "            min_impurity_decrease=0.0, min_impurity_split=None,\n",
    "            min_samples_leaf=28, min_samples_split=111,\n",
    "            min_weight_fraction_leaf=0.0, n_estimators=121, n_jobs=-1,\n",
    "            oob_score=False, random_state=25, verbose=0, warm_start=False)"
   ]
  },
  {
   "cell_type": "code",
   "execution_count": 14,
   "metadata": {
    "colab": {},
    "colab_type": "code",
    "id": "Dax83GfLHgl1"
   },
   "outputs": [],
   "source": [
    "clf.fit(df_final_train,y_train)\n",
    "y_train_pred = clf.predict(df_final_train)\n",
    "y_test_pred = clf.predict(df_final_test)"
   ]
  },
  {
   "cell_type": "code",
   "execution_count": 15,
   "metadata": {
    "colab": {},
    "colab_type": "code",
    "id": "PTtAp1iTHgl4",
    "outputId": "e2e3d725-3c4d-4374-d303-8f294b570977"
   },
   "outputs": [
    {
     "name": "stdout",
     "output_type": "stream",
     "text": [
      "Train f1 score 0.9652533106548414\n",
      "Test f1 score 0.9241678239279553\n"
     ]
    }
   ],
   "source": [
    "from sklearn.metrics import f1_score\n",
    "print('Train f1 score',f1_score(y_train,y_train_pred))\n",
    "print('Test f1 score',f1_score(y_test,y_test_pred))"
   ]
  },
  {
   "cell_type": "code",
   "execution_count": 16,
   "metadata": {
    "colab": {},
    "colab_type": "code",
    "id": "5XfUkZYQHgl7"
   },
   "outputs": [],
   "source": [
    "from sklearn.metrics import confusion_matrix\n",
    "def plot_confusion_matrix(test_y, predict_y):\n",
    "    C = confusion_matrix(test_y, predict_y)\n",
    "    \n",
    "    A =(((C.T)/(C.sum(axis=1))).T)\n",
    "    \n",
    "    B =(C/C.sum(axis=0))\n",
    "    plt.figure(figsize=(20,4))\n",
    "    \n",
    "    labels = [0,1]\n",
    "    # representing A in heatmap format\n",
    "    cmap=sns.light_palette(\"blue\")\n",
    "    plt.subplot(1, 3, 1)\n",
    "    sns.heatmap(C, annot=True, cmap=cmap, fmt=\".3f\", xticklabels=labels, yticklabels=labels)\n",
    "    plt.xlabel('Predicted Class')\n",
    "    plt.ylabel('Original Class')\n",
    "    plt.title(\"Confusion matrix\")\n",
    "    \n",
    "    plt.subplot(1, 3, 2)\n",
    "    sns.heatmap(B, annot=True, cmap=cmap, fmt=\".3f\", xticklabels=labels, yticklabels=labels)\n",
    "    plt.xlabel('Predicted Class')\n",
    "    plt.ylabel('Original Class')\n",
    "    plt.title(\"Precision matrix\")\n",
    "    \n",
    "    plt.subplot(1, 3, 3)\n",
    "    # representing B in heatmap format\n",
    "    sns.heatmap(A, annot=True, cmap=cmap, fmt=\".3f\", xticklabels=labels, yticklabels=labels)\n",
    "    plt.xlabel('Predicted Class')\n",
    "    plt.ylabel('Original Class')\n",
    "    plt.title(\"Recall matrix\")\n",
    "    \n",
    "    plt.show()"
   ]
  },
  {
   "cell_type": "code",
   "execution_count": 17,
   "metadata": {
    "colab": {},
    "colab_type": "code",
    "id": "s6t11dhTHgl-",
    "outputId": "189de3be-1c99-4653-f56f-12b18b0f4db7"
   },
   "outputs": [
    {
     "name": "stdout",
     "output_type": "stream",
     "text": [
      "Train confusion_matrix\n"
     ]
    },
    {
     "data": {
      "image/png": "[encoded data removed]",
      "text/plain": [
       "<Figure size 1440x288 with 6 Axes>"
      ]
     },
     "metadata": {
      "needs_background": "light"
     },
     "output_type": "display_data"
    },
    {
     "name": "stdout",
     "output_type": "stream",
     "text": [
      "Test confusion_matrix\n"
     ]
    },
    {
     "data": {
      "image/png": "[encoded data removed]",
      "text/plain": [
       "<Figure size 1440x288 with 6 Axes>"
      ]
     },
     "metadata": {
      "needs_background": "light"
     },
     "output_type": "display_data"
    }
   ],
   "source": [
    "print('Train confusion_matrix')\n",
    "plot_confusion_matrix(y_train,y_train_pred)\n",
    "print('Test confusion_matrix')\n",
    "plot_confusion_matrix(y_test,y_test_pred)"
   ]
  },
  {
   "cell_type": "code",
   "execution_count": 18,
   "metadata": {
    "colab": {},
    "colab_type": "code",
    "id": "61TF-VLeHgmD",
    "outputId": "795f1b39-61c7-470f-e2d0-1fe6dc7ac5fd"
   },
   "outputs": [
    {
     "data": {
      "image/png": "[encoded data removed]",
      "text/plain": [
       "<Figure size 432x288 with 1 Axes>"
      ]
     },
     "metadata": {
      "needs_background": "light"
     },
     "output_type": "display_data"
    }
   ],
   "source": [
    "from sklearn.metrics import roc_curve, auc\n",
    "fpr,tpr,ths = roc_curve(y_test,y_test_pred)\n",
    "auc_sc = auc(fpr, tpr)\n",
    "plt.plot(fpr, tpr, color='navy',label='ROC curve (area = %0.2f)' % auc_sc)\n",
    "plt.xlabel('False Positive Rate')\n",
    "plt.ylabel('True Positive Rate')\n",
    "plt.title('Receiver operating characteristic with test data')\n",
    "plt.legend()\n",
    "plt.show()"
   ]
  },
  {
   "cell_type": "code",
   "execution_count": 19,
   "metadata": {
    "colab": {},
    "colab_type": "code",
    "id": "HEZ7uvN6HgmK",
    "outputId": "6f762256-54fc-4e2f-865b-22342033eb2c",
    "scrolled": false
   },
   "outputs": [
    {
     "data": {
      "image/png": "[encoded data removed]",
      "text/plain": [
       "<Figure size 720x864 with 1 Axes>"
      ]
     },
     "metadata": {
      "needs_background": "light"
     },
     "output_type": "display_data"
    }
   ],
   "source": [
    "features = df_final_train.columns\n",
    "importances = clf.feature_importances_\n",
    "indices = (np.argsort(importances))[-25:]\n",
    "plt.figure(figsize=(10,12))\n",
    "plt.title('Feature Importances')\n",
    "plt.barh(range(len(indices)), importances[indices], color='r', align='center')\n",
    "plt.yticks(range(len(indices)), [features[i] for i in indices])\n",
    "plt.xlabel('Relative Importance')\n",
    "plt.show()"
   ]
  },
  {
   "cell_type": "markdown",
   "metadata": {
    "colab_type": "text",
    "id": "xdHW32hcHgmN"
   },
   "source": [
    "# Assignments:\n",
    "\n",
    "1. Add another feature called  Preferential Attachment  with followers and followees data of vertex. you can check about Preferential Attachment in below link\n",
    "http://be.amazd.com/link-prediction/ <br>\n",
    "2. Add  feature called svd_dot. you can calculate svd_dot as Dot product between sourse node svd and destination node svd features.  you can read about this in below pdf \n",
    "https://storage.googleapis.com/kaggle-forum-message-attachments/2594/supervised_link_prediction.pdf<br>\n",
    "3. Tune hyperparameters for XG boost with all these features and check the error metric."
   ]
  },
  {
   "cell_type": "markdown",
   "metadata": {},
   "source": [
    "## Add another feature called Preferential Attachment with followers and followees data "
   ]
  },
  {
   "cell_type": "code",
   "execution_count": 20,
   "metadata": {},
   "outputs": [],
   "source": [
    "def pref_attach_followers(a,b):\n",
    "  \n",
    "    try:\n",
    "    \n",
    "        if len(set(train_graph.predecessors(a))) == 0  | len(set(train_graph.predecessors(b))) == 0:\n",
    "      \n",
    "          return 0\n",
    "    \n",
    "        sim = (len(set(train_graph.predecessors(a))*(set(train_graph.predecessors(b)))))\n",
    "    \n",
    "        return sim\n",
    "  \n",
    "    except:\n",
    "    \n",
    "        return 0"
   ]
  },
  {
   "cell_type": "code",
   "execution_count": 21,
   "metadata": {},
   "outputs": [],
   "source": [
    "def pref_attach_followees(a,b):\n",
    "  \n",
    "    try:\n",
    "    \n",
    "        if len(set(train_graph.successors(a))) == 0  | len(set(train_graph.successors(b))) == 0:\n",
    "      \n",
    "          return 0\n",
    "    \n",
    "        sim = (len(set(train_graph.successors(a))*(set(train_graph.successors(b)))))\n",
    "    \n",
    "        return sim\n",
    "  \n",
    "    except:\n",
    "    \n",
    "        return 0"
   ]
  },
  {
   "cell_type": "code",
   "execution_count": 22,
   "metadata": {},
   "outputs": [
    {
     "data": {
      "text/plain": [
       "0"
      ]
     },
     "execution_count": 22,
     "metadata": {},
     "output_type": "execute_result"
    }
   ],
   "source": [
    "pref_attach_followers(1,456)"
   ]
  },
  {
   "cell_type": "code",
   "execution_count": 23,
   "metadata": {},
   "outputs": [],
   "source": [
    "#reading\n",
    "from pandas import read_hdf\n",
    "df_final_train = read_hdf('storage_sample_stage4.h5', 'train_df',mode='r')\n",
    "df_final_test = read_hdf('storage_sample_stage4.h5', 'test_df',mode='r')"
   ]
  },
  {
   "cell_type": "code",
   "execution_count": 24,
   "metadata": {},
   "outputs": [
    {
     "data": {
      "text/plain": [
       "Index(['source_node', 'destination_node', 'indicator_link',\n",
       "       'jaccard_followers', 'jaccard_followees', 'cosine_followers',\n",
       "       'cosine_followees', 'num_followers_s', 'num_followees_s',\n",
       "       'num_followees_d', 'inter_followers', 'inter_followees', 'adar_index',\n",
       "       'follows_back', 'same_comp', 'shortest_path', 'weight_in', 'weight_out',\n",
       "       'weight_f1', 'weight_f2', 'weight_f3', 'weight_f4', 'page_rank_s',\n",
       "       'page_rank_d', 'katz_s', 'katz_d', 'hubs_s', 'hubs_d', 'authorities_s',\n",
       "       'authorities_d', 'svd_u_s_1', 'svd_u_s_2', 'svd_u_s_3', 'svd_u_s_4',\n",
       "       'svd_u_s_5', 'svd_u_s_6', 'svd_u_d_1', 'svd_u_d_2', 'svd_u_d_3',\n",
       "       'svd_u_d_4', 'svd_u_d_5', 'svd_u_d_6', 'svd_v_s_1', 'svd_v_s_2',\n",
       "       'svd_v_s_3', 'svd_v_s_4', 'svd_v_s_5', 'svd_v_s_6', 'svd_v_d_1',\n",
       "       'svd_v_d_2', 'svd_v_d_3', 'svd_v_d_4', 'svd_v_d_5', 'svd_v_d_6'],\n",
       "      dtype='object')"
      ]
     },
     "execution_count": 24,
     "metadata": {},
     "output_type": "execute_result"
    }
   ],
   "source": [
    "df_final_train.columns"
   ]
  },
  {
   "cell_type": "code",
   "execution_count": 25,
   "metadata": {},
   "outputs": [],
   "source": [
    "df_final_train['preferential_attachment_followers'] = df_final_train.apply(lambda x:pref_attach_followers(x['source_node'],x['destination_node']),axis=1)\n",
    "df_final_test['preferential_attachment_followers'] = df_final_test.apply(lambda x:pref_attach_followers(x['source_node'],x['destination_node']),axis=1)\n",
    "\n",
    "\n",
    "df_final_train['preferential_attachment_followees'] = df_final_train.apply(lambda x:pref_attach_followees(x['source_node'],x['destination_node']),axis=1)\n",
    "df_final_test['preferential_attachment_followees'] = df_final_test.apply(lambda x:pref_attach_followees(x['source_node'],x['destination_node']),axis=1)"
   ]
  },
  {
   "cell_type": "code",
   "execution_count": 26,
   "metadata": {},
   "outputs": [
    {
     "data": {
      "text/html": [
       "<div>\n",
       "<style scoped>\n",
       "    .dataframe tbody tr th:only-of-type {\n",
       "        vertical-align: middle;\n",
       "    }\n",
       "\n",
       "    .dataframe tbody tr th {\n",
       "        vertical-align: top;\n",
       "    }\n",
       "\n",
       "    .dataframe thead th {\n",
       "        text-align: right;\n",
       "    }\n",
       "</style>\n",
       "<table border=\"1\" class=\"dataframe\">\n",
       "  <thead>\n",
       "    <tr style=\"text-align: right;\">\n",
       "      <th></th>\n",
       "      <th>source_node</th>\n",
       "      <th>destination_node</th>\n",
       "      <th>indicator_link</th>\n",
       "      <th>jaccard_followers</th>\n",
       "      <th>jaccard_followees</th>\n",
       "      <th>cosine_followers</th>\n",
       "      <th>cosine_followees</th>\n",
       "      <th>num_followers_s</th>\n",
       "      <th>num_followees_s</th>\n",
       "      <th>num_followees_d</th>\n",
       "      <th>...</th>\n",
       "      <th>svd_v_s_5</th>\n",
       "      <th>svd_v_s_6</th>\n",
       "      <th>svd_v_d_1</th>\n",
       "      <th>svd_v_d_2</th>\n",
       "      <th>svd_v_d_3</th>\n",
       "      <th>svd_v_d_4</th>\n",
       "      <th>svd_v_d_5</th>\n",
       "      <th>svd_v_d_6</th>\n",
       "      <th>preferential_attachment_followers</th>\n",
       "      <th>preferential_attachment_followees</th>\n",
       "    </tr>\n",
       "  </thead>\n",
       "  <tbody>\n",
       "    <tr>\n",
       "      <th>0</th>\n",
       "      <td>273084</td>\n",
       "      <td>1505602</td>\n",
       "      <td>1</td>\n",
       "      <td>0</td>\n",
       "      <td>0.000000</td>\n",
       "      <td>0.000000</td>\n",
       "      <td>0.000000</td>\n",
       "      <td>6</td>\n",
       "      <td>15</td>\n",
       "      <td>8</td>\n",
       "      <td>...</td>\n",
       "      <td>8.108434e-13</td>\n",
       "      <td>1.719702e-14</td>\n",
       "      <td>-1.355368e-12</td>\n",
       "      <td>4.675307e-13</td>\n",
       "      <td>1.128591e-06</td>\n",
       "      <td>6.616550e-14</td>\n",
       "      <td>9.771077e-13</td>\n",
       "      <td>4.159752e-14</td>\n",
       "      <td>0</td>\n",
       "      <td>0</td>\n",
       "    </tr>\n",
       "    <tr>\n",
       "      <th>1</th>\n",
       "      <td>832016</td>\n",
       "      <td>1543415</td>\n",
       "      <td>1</td>\n",
       "      <td>0</td>\n",
       "      <td>0.187135</td>\n",
       "      <td>0.028382</td>\n",
       "      <td>0.343828</td>\n",
       "      <td>94</td>\n",
       "      <td>61</td>\n",
       "      <td>142</td>\n",
       "      <td>...</td>\n",
       "      <td>3.703479e-12</td>\n",
       "      <td>2.251737e-10</td>\n",
       "      <td>1.245101e-12</td>\n",
       "      <td>-1.636948e-10</td>\n",
       "      <td>-3.112650e-10</td>\n",
       "      <td>6.738902e-02</td>\n",
       "      <td>2.607801e-11</td>\n",
       "      <td>2.372904e-09</td>\n",
       "      <td>0</td>\n",
       "      <td>0</td>\n",
       "    </tr>\n",
       "    <tr>\n",
       "      <th>2</th>\n",
       "      <td>1325247</td>\n",
       "      <td>760242</td>\n",
       "      <td>1</td>\n",
       "      <td>0</td>\n",
       "      <td>0.369565</td>\n",
       "      <td>0.156957</td>\n",
       "      <td>0.566038</td>\n",
       "      <td>28</td>\n",
       "      <td>41</td>\n",
       "      <td>22</td>\n",
       "      <td>...</td>\n",
       "      <td>1.940403e-19</td>\n",
       "      <td>-3.365389e-19</td>\n",
       "      <td>-1.238370e-18</td>\n",
       "      <td>1.438175e-19</td>\n",
       "      <td>-1.852863e-19</td>\n",
       "      <td>-5.901864e-19</td>\n",
       "      <td>1.629341e-19</td>\n",
       "      <td>-2.572452e-19</td>\n",
       "      <td>0</td>\n",
       "      <td>0</td>\n",
       "    </tr>\n",
       "    <tr>\n",
       "      <th>3</th>\n",
       "      <td>1368400</td>\n",
       "      <td>1006992</td>\n",
       "      <td>1</td>\n",
       "      <td>0</td>\n",
       "      <td>0.000000</td>\n",
       "      <td>0.000000</td>\n",
       "      <td>0.000000</td>\n",
       "      <td>11</td>\n",
       "      <td>5</td>\n",
       "      <td>7</td>\n",
       "      <td>...</td>\n",
       "      <td>1.513483e-12</td>\n",
       "      <td>4.498061e-13</td>\n",
       "      <td>-9.818087e-10</td>\n",
       "      <td>3.454672e-11</td>\n",
       "      <td>5.213635e-08</td>\n",
       "      <td>9.595823e-13</td>\n",
       "      <td>3.047045e-10</td>\n",
       "      <td>1.246592e-13</td>\n",
       "      <td>0</td>\n",
       "      <td>0</td>\n",
       "    </tr>\n",
       "    <tr>\n",
       "      <th>4</th>\n",
       "      <td>140165</td>\n",
       "      <td>1708748</td>\n",
       "      <td>1</td>\n",
       "      <td>0</td>\n",
       "      <td>0.000000</td>\n",
       "      <td>0.000000</td>\n",
       "      <td>0.000000</td>\n",
       "      <td>1</td>\n",
       "      <td>11</td>\n",
       "      <td>3</td>\n",
       "      <td>...</td>\n",
       "      <td>3.360247e-13</td>\n",
       "      <td>1.407670e-14</td>\n",
       "      <td>0.000000e+00</td>\n",
       "      <td>0.000000e+00</td>\n",
       "      <td>0.000000e+00</td>\n",
       "      <td>0.000000e+00</td>\n",
       "      <td>0.000000e+00</td>\n",
       "      <td>0.000000e+00</td>\n",
       "      <td>0</td>\n",
       "      <td>0</td>\n",
       "    </tr>\n",
       "  </tbody>\n",
       "</table>\n",
       "<p>5 rows × 56 columns</p>\n",
       "</div>"
      ],
      "text/plain": [
       "   source_node  destination_node  indicator_link  jaccard_followers  \\\n",
       "0       273084           1505602               1                  0   \n",
       "1       832016           1543415               1                  0   \n",
       "2      1325247            760242               1                  0   \n",
       "3      1368400           1006992               1                  0   \n",
       "4       140165           1708748               1                  0   \n",
       "\n",
       "   jaccard_followees  cosine_followers  cosine_followees  num_followers_s  \\\n",
       "0           0.000000          0.000000          0.000000                6   \n",
       "1           0.187135          0.028382          0.343828               94   \n",
       "2           0.369565          0.156957          0.566038               28   \n",
       "3           0.000000          0.000000          0.000000               11   \n",
       "4           0.000000          0.000000          0.000000                1   \n",
       "\n",
       "   num_followees_s  num_followees_d  ...     svd_v_s_5     svd_v_s_6  \\\n",
       "0               15                8  ...  8.108434e-13  1.719702e-14   \n",
       "1               61              142  ...  3.703479e-12  2.251737e-10   \n",
       "2               41               22  ...  1.940403e-19 -3.365389e-19   \n",
       "3                5                7  ...  1.513483e-12  4.498061e-13   \n",
       "4               11                3  ...  3.360247e-13  1.407670e-14   \n",
       "\n",
       "      svd_v_d_1     svd_v_d_2     svd_v_d_3     svd_v_d_4     svd_v_d_5  \\\n",
       "0 -1.355368e-12  4.675307e-13  1.128591e-06  6.616550e-14  9.771077e-13   \n",
       "1  1.245101e-12 -1.636948e-10 -3.112650e-10  6.738902e-02  2.607801e-11   \n",
       "2 -1.238370e-18  1.438175e-19 -1.852863e-19 -5.901864e-19  1.629341e-19   \n",
       "3 -9.818087e-10  3.454672e-11  5.213635e-08  9.595823e-13  3.047045e-10   \n",
       "4  0.000000e+00  0.000000e+00  0.000000e+00  0.000000e+00  0.000000e+00   \n",
       "\n",
       "      svd_v_d_6  preferential_attachment_followers  \\\n",
       "0  4.159752e-14                                  0   \n",
       "1  2.372904e-09                                  0   \n",
       "2 -2.572452e-19                                  0   \n",
       "3  1.246592e-13                                  0   \n",
       "4  0.000000e+00                                  0   \n",
       "\n",
       "   preferential_attachment_followees  \n",
       "0                                  0  \n",
       "1                                  0  \n",
       "2                                  0  \n",
       "3                                  0  \n",
       "4                                  0  \n",
       "\n",
       "[5 rows x 56 columns]"
      ]
     },
     "execution_count": 26,
     "metadata": {},
     "output_type": "execute_result"
    }
   ],
   "source": [
    "df_final_train.head()"
   ]
  },
  {
   "cell_type": "markdown",
   "metadata": {},
   "source": [
    "## Add feature called svd_dot. you can calculate svd_dot as Dot product between sourse node svd and destination node svd features."
   ]
  },
  {
   "cell_type": "code",
   "execution_count": 27,
   "metadata": {},
   "outputs": [],
   "source": [
    "df_final_train['svd_u_1_dot'] = df_final_train['svd_u_s_1']*(df_final_train['svd_u_d_1'])\n",
    "df_final_test['svd_u_1_dot'] = df_final_test['svd_u_s_1']*(df_final_test['svd_u_d_1'])\n",
    "df_final_train['svd_v_1_dot'] = df_final_train['svd_v_s_1']*(df_final_train['svd_v_d_1'])\n",
    "df_final_test['svd_v_1_dot'] = df_final_test['svd_v_s_1']*(df_final_test['svd_v_d_1'])\n",
    "\n",
    "\n",
    "df_final_train['svd_u_2_dot'] = df_final_train['svd_u_s_2']*(df_final_train['svd_u_d_2'])\n",
    "df_final_test['svd_u_2_dot'] = df_final_test['svd_u_s_2']*(df_final_test['svd_u_d_2'])\n",
    "df_final_train['svd_v_2_dot'] = df_final_train['svd_v_s_2']*(df_final_train['svd_v_d_2'])\n",
    "df_final_test['svd_v_2_dot'] = df_final_test['svd_v_s_2']*(df_final_test['svd_v_d_2'])\n",
    "\n",
    "\n",
    "df_final_train['svd_u_3_dot'] = df_final_train['svd_u_s_3']*(df_final_train['svd_u_d_3'])\n",
    "df_final_test['svd_u_3_dot'] = df_final_test['svd_u_s_3']*(df_final_test['svd_u_d_3'])\n",
    "df_final_train['svd_v_3_dot'] = df_final_train['svd_v_s_3']*(df_final_train['svd_v_d_3'])\n",
    "df_final_test['svd_v_3_dot'] = df_final_test['svd_v_s_3']*(df_final_test['svd_v_d_3'])\n",
    "\n",
    "\n",
    "df_final_train['svd_u_4_dot'] = df_final_train['svd_u_s_4']*(df_final_train['svd_u_d_4'])\n",
    "df_final_test['svd_u_4_dot'] = df_final_test['svd_u_s_4']*(df_final_test['svd_u_d_4'])\n",
    "df_final_train['svd_v_4_dot'] = df_final_train['svd_v_s_4']*(df_final_train['svd_v_d_4'])\n",
    "df_final_test['svd_v_4_dot'] = df_final_test['svd_v_s_4']*(df_final_test['svd_v_d_4'])\n",
    "\n",
    "\n",
    "df_final_train['svd_u_5_dot'] = df_final_train['svd_u_s_5']*(df_final_train['svd_u_d_5'])\n",
    "df_final_test['svd_u_5_dot'] = df_final_test['svd_u_s_5']*(df_final_test['svd_u_d_5'])\n",
    "df_final_train['svd_v_5_dot'] = df_final_train['svd_v_s_5']*(df_final_train['svd_v_d_5'])\n",
    "df_final_test['svd_v_5_dot'] = df_final_test['svd_v_s_5']*(df_final_test['svd_v_d_5'])\n",
    "\n",
    "\n",
    "df_final_train['svd_u_6_dot'] = df_final_train['svd_u_s_6']*(df_final_train['svd_u_d_6'])\n",
    "df_final_test['svd_u_6_dot'] = df_final_test['svd_u_s_6']*(df_final_test['svd_u_d_6'])\n",
    "df_final_train['svd_v_6_dot'] = df_final_train['svd_v_s_6']*(df_final_train['svd_v_d_6'])\n",
    "df_final_test['svd_v_6_dot'] = df_final_test['svd_v_s_6']*(df_final_test['svd_v_d_6'])\n",
    "\n",
    "df_final_train['svd_u_dot'] = df_final_train['svd_u_1_dot']+df_final_train['svd_u_2_dot']+df_final_train['svd_u_3_dot']+df_final_train['svd_u_4_dot']+df_final_train['svd_u_5_dot']+df_final_train['svd_u_6_dot']\n",
    "df_final_test['svd_u_dot'] = df_final_test['svd_u_1_dot']+df_final_test['svd_u_2_dot']+df_final_test['svd_u_3_dot']+df_final_test['svd_u_4_dot']+df_final_test['svd_u_5_dot']+df_final_test['svd_u_6_dot']\n",
    "df_final_train['svd_v_dot'] = df_final_train['svd_v_1_dot']+df_final_train['svd_v_2_dot']+df_final_train['svd_v_3_dot']+df_final_train['svd_v_4_dot']+df_final_train['svd_v_5_dot']+df_final_train['svd_v_6_dot']\n",
    "df_final_test['svd_v_dot'] = df_final_test['svd_v_1_dot']+df_final_test['svd_v_2_dot']+df_final_test['svd_v_3_dot']+df_final_test['svd_v_4_dot']+df_final_test['svd_v_5_dot']+df_final_test['svd_v_6_dot']"
   ]
  },
  {
   "cell_type": "code",
   "execution_count": 28,
   "metadata": {},
   "outputs": [
    {
     "data": {
      "text/plain": [
       "(100002, 70)"
      ]
     },
     "execution_count": 28,
     "metadata": {},
     "output_type": "execute_result"
    }
   ],
   "source": [
    "df_final_train.shape"
   ]
  },
  {
   "cell_type": "code",
   "execution_count": 29,
   "metadata": {},
   "outputs": [],
   "source": [
    "df_final_train.to_csv('data_train.csv', index=True)\n",
    "df_final_test.to_csv('data_test.csv', index=True)"
   ]
  },
  {
   "cell_type": "code",
   "execution_count": 30,
   "metadata": {},
   "outputs": [],
   "source": [
    "y_train = df_final_train.indicator_link\n",
    "y_test = df_final_test.indicator_link"
   ]
  },
  {
   "cell_type": "code",
   "execution_count": 31,
   "metadata": {},
   "outputs": [],
   "source": [
    "df_final_train.drop(['source_node', 'destination_node','indicator_link','svd_u_1_dot','svd_v_1_dot','svd_u_2_dot','svd_v_2_dot','svd_u_3_dot','svd_v_3_dot','svd_u_4_dot','svd_v_4_dot','svd_u_5_dot','svd_v_5_dot','svd_u_6_dot','svd_v_6_dot'],axis=1,inplace=True)\n",
    "df_final_test.drop(['source_node', 'destination_node','indicator_link','svd_u_1_dot','svd_v_1_dot','svd_u_2_dot','svd_v_2_dot','svd_u_3_dot','svd_v_3_dot','svd_u_4_dot','svd_v_4_dot','svd_u_5_dot','svd_v_5_dot','svd_u_6_dot','svd_v_6_dot'],axis=1,inplace=True)"
   ]
  },
  {
   "cell_type": "code",
   "execution_count": 32,
   "metadata": {},
   "outputs": [
    {
     "data": {
      "text/plain": [
       "(100002, 55)"
      ]
     },
     "execution_count": 32,
     "metadata": {},
     "output_type": "execute_result"
    }
   ],
   "source": [
    "df_final_train.shape"
   ]
  },
  {
   "cell_type": "code",
   "execution_count": 33,
   "metadata": {},
   "outputs": [
    {
     "data": {
      "text/plain": [
       "Index(['jaccard_followers', 'jaccard_followees', 'cosine_followers',\n",
       "       'cosine_followees', 'num_followers_s', 'num_followees_s',\n",
       "       'num_followees_d', 'inter_followers', 'inter_followees', 'adar_index',\n",
       "       'follows_back', 'same_comp', 'shortest_path', 'weight_in', 'weight_out',\n",
       "       'weight_f1', 'weight_f2', 'weight_f3', 'weight_f4', 'page_rank_s',\n",
       "       'page_rank_d', 'katz_s', 'katz_d', 'hubs_s', 'hubs_d', 'authorities_s',\n",
       "       'authorities_d', 'svd_u_s_1', 'svd_u_s_2', 'svd_u_s_3', 'svd_u_s_4',\n",
       "       'svd_u_s_5', 'svd_u_s_6', 'svd_u_d_1', 'svd_u_d_2', 'svd_u_d_3',\n",
       "       'svd_u_d_4', 'svd_u_d_5', 'svd_u_d_6', 'svd_v_s_1', 'svd_v_s_2',\n",
       "       'svd_v_s_3', 'svd_v_s_4', 'svd_v_s_5', 'svd_v_s_6', 'svd_v_d_1',\n",
       "       'svd_v_d_2', 'svd_v_d_3', 'svd_v_d_4', 'svd_v_d_5', 'svd_v_d_6',\n",
       "       'preferential_attachment_followers',\n",
       "       'preferential_attachment_followees', 'svd_u_dot', 'svd_v_dot'],\n",
       "      dtype='object')"
      ]
     },
     "execution_count": 33,
     "metadata": {},
     "output_type": "execute_result"
    }
   ],
   "source": [
    "df_final_train.columns"
   ]
  },
  {
   "cell_type": "markdown",
   "metadata": {},
   "source": [
    "## Tune hyperparameters for XG boost "
   ]
  },
  {
   "cell_type": "code",
   "execution_count": 34,
   "metadata": {},
   "outputs": [
    {
     "name": "stderr",
     "output_type": "stream",
     "text": [
      "  0%|          | 0/9 [00:00<?, ?it/s][Parallel(n_jobs=-1)]: Using backend LokyBackend with 8 concurrent workers.\n"
     ]
    },
    {
     "name": "stdout",
     "output_type": "stream",
     "text": [
      "Fitting 2 folds for each of 10 candidates, totalling 20 fits\n"
     ]
    },
    {
     "name": "stderr",
     "output_type": "stream",
     "text": [
      "[Parallel(n_jobs=-1)]: Done  16 out of  20 | elapsed:  5.2min remaining:  1.3min\n",
      "[Parallel(n_jobs=-1)]: Done  20 out of  20 | elapsed: 10.3min finished\n",
      " 11%|█         | 1/9 [10:18<1:22:25, 618.21s/it]"
     ]
    },
    {
     "name": "stdout",
     "output_type": "stream",
     "text": [
      "Fitting 2 folds for each of 10 candidates, totalling 20 fits\n"
     ]
    },
    {
     "name": "stderr",
     "output_type": "stream",
     "text": [
      "[Parallel(n_jobs=-1)]: Using backend LokyBackend with 8 concurrent workers.\n",
      "[Parallel(n_jobs=-1)]: Done  16 out of  20 | elapsed:  5.2min remaining:  1.3min\n",
      "[Parallel(n_jobs=-1)]: Done  20 out of  20 | elapsed: 10.2min finished\n",
      " 22%|██▏       | 2/9 [20:31<1:11:57, 616.82s/it]"
     ]
    },
    {
     "name": "stdout",
     "output_type": "stream",
     "text": [
      "Fitting 2 folds for each of 10 candidates, totalling 20 fits\n"
     ]
    },
    {
     "name": "stderr",
     "output_type": "stream",
     "text": [
      "[Parallel(n_jobs=-1)]: Using backend LokyBackend with 8 concurrent workers.\n",
      "[Parallel(n_jobs=-1)]: Done  16 out of  20 | elapsed:  5.2min remaining:  1.3min\n",
      "[Parallel(n_jobs=-1)]: Done  20 out of  20 | elapsed: 10.2min finished\n",
      " 33%|███▎      | 3/9 [30:45<1:01:35, 615.87s/it]"
     ]
    },
    {
     "name": "stdout",
     "output_type": "stream",
     "text": [
      "Fitting 2 folds for each of 10 candidates, totalling 20 fits\n"
     ]
    },
    {
     "name": "stderr",
     "output_type": "stream",
     "text": [
      "[Parallel(n_jobs=-1)]: Using backend LokyBackend with 8 concurrent workers.\n",
      "[Parallel(n_jobs=-1)]: Done  16 out of  20 | elapsed:  5.2min remaining:  1.3min\n",
      "[Parallel(n_jobs=-1)]: Done  20 out of  20 | elapsed: 10.2min finished\n",
      " 44%|████▍     | 4/9 [40:57<51:13, 614.77s/it]  "
     ]
    },
    {
     "name": "stdout",
     "output_type": "stream",
     "text": [
      "Fitting 2 folds for each of 10 candidates, totalling 20 fits\n"
     ]
    },
    {
     "name": "stderr",
     "output_type": "stream",
     "text": [
      "[Parallel(n_jobs=-1)]: Using backend LokyBackend with 8 concurrent workers.\n",
      "[Parallel(n_jobs=-1)]: Done  16 out of  20 | elapsed:  5.2min remaining:  1.3min\n",
      "[Parallel(n_jobs=-1)]: Done  20 out of  20 | elapsed: 10.2min finished\n",
      " 56%|█████▌    | 5/9 [51:11<40:57, 614.41s/it]"
     ]
    },
    {
     "name": "stdout",
     "output_type": "stream",
     "text": [
      "Fitting 2 folds for each of 10 candidates, totalling 20 fits\n"
     ]
    },
    {
     "name": "stderr",
     "output_type": "stream",
     "text": [
      "[Parallel(n_jobs=-1)]: Using backend LokyBackend with 8 concurrent workers.\n",
      "[Parallel(n_jobs=-1)]: Done  16 out of  20 | elapsed:  5.1min remaining:  1.3min\n",
      "[Parallel(n_jobs=-1)]: Done  20 out of  20 | elapsed: 10.2min finished\n",
      " 67%|██████▋   | 6/9 [1:01:21<30:39, 613.25s/it]"
     ]
    },
    {
     "name": "stdout",
     "output_type": "stream",
     "text": [
      "Fitting 2 folds for each of 10 candidates, totalling 20 fits\n"
     ]
    },
    {
     "name": "stderr",
     "output_type": "stream",
     "text": [
      "[Parallel(n_jobs=-1)]: Using backend LokyBackend with 8 concurrent workers.\n",
      "[Parallel(n_jobs=-1)]: Done  16 out of  20 | elapsed:  5.2min remaining:  1.3min\n",
      "[Parallel(n_jobs=-1)]: Done  20 out of  20 | elapsed: 10.2min finished\n",
      " 78%|███████▊  | 7/9 [1:11:34<20:26, 613.08s/it]"
     ]
    },
    {
     "name": "stdout",
     "output_type": "stream",
     "text": [
      "Fitting 2 folds for each of 10 candidates, totalling 20 fits\n"
     ]
    },
    {
     "name": "stderr",
     "output_type": "stream",
     "text": [
      "[Parallel(n_jobs=-1)]: Using backend LokyBackend with 8 concurrent workers.\n",
      "[Parallel(n_jobs=-1)]: Done  16 out of  20 | elapsed:  5.3min remaining:  1.3min\n",
      "[Parallel(n_jobs=-1)]: Done  20 out of  20 | elapsed: 10.3min finished\n",
      " 89%|████████▉ | 8/9 [1:21:50<10:13, 613.84s/it]"
     ]
    },
    {
     "name": "stdout",
     "output_type": "stream",
     "text": [
      "Fitting 2 folds for each of 10 candidates, totalling 20 fits\n"
     ]
    },
    {
     "name": "stderr",
     "output_type": "stream",
     "text": [
      "[Parallel(n_jobs=-1)]: Using backend LokyBackend with 8 concurrent workers.\n",
      "[Parallel(n_jobs=-1)]: Done  16 out of  20 | elapsed:  5.2min remaining:  1.3min\n",
      "[Parallel(n_jobs=-1)]: Done  20 out of  20 | elapsed: 10.3min finished\n",
      "100%|██████████| 9/9 [1:32:08<00:00, 614.29s/it]\n"
     ]
    }
   ],
   "source": [
    "import xgboost as xgb\n",
    "from sklearn.metrics import f1_score\n",
    "from sklearn.model_selection import RandomizedSearchCV\n",
    "from scipy.stats import randint as sp_randint\n",
    "from scipy.stats import uniform\n",
    "from tqdm import tqdm\n",
    "\n",
    "param = {\n",
    "        'max_depth': [6,8,10,20],\n",
    "        'learning_rate': [0.001, 0.01, 0.1, 0.2, 0.3,0.5,0.75,1],\n",
    "        'subsample': [0.001,0.01,0.1,0.5, 0.6, 0.7, 0.8, 0.9, 1.0],\n",
    "        'colsample_bytree': [0.2,0.4, 0.5, 0.6, 0.7, 0.8, 0.9, 1.0],\n",
    "        'colsample_bylevel': [0.2,0.4, 0.5, 0.6, 0.7, 0.8, 0.9, 1.0],\n",
    "        'gamma': [0, 0.25, 0.5,0.75, 1.0],\n",
    "        'reg_lambda': [0.1, 1.0, 5.0, 10.0, 50.0, 100.0],\n",
    "        'reg_alpha':[1e-5, 1e-2, 0.1, 1, 10, 100],\n",
    "        'n_estimators': [750,1000,1250]}\n",
    "\n",
    "fit_params = {'eval_metric': 'logloss'}\n",
    "\n",
    "clf = xgb.XGBClassifier()\n",
    "\n",
    "for i in tqdm(param):\n",
    "    \n",
    "    model = RandomizedSearchCV(clf, param,n_jobs=-1, verbose=2, cv=2,fit_params=fit_params,scoring='f1', refit=False, random_state=42)\n",
    "     \n",
    "    model.fit(df_final_train,y_train)            \n",
    "            "
   ]
  },
  {
   "cell_type": "code",
   "execution_count": 35,
   "metadata": {},
   "outputs": [],
   "source": [
    "best_score = model.best_score_\n",
    "best_params = model.best_params_"
   ]
  },
  {
   "cell_type": "code",
   "execution_count": 36,
   "metadata": {},
   "outputs": [
    {
     "data": {
      "text/plain": [
       "0.9814686677550445"
      ]
     },
     "execution_count": 36,
     "metadata": {},
     "output_type": "execute_result"
    }
   ],
   "source": [
    "best_score"
   ]
  },
  {
   "cell_type": "code",
   "execution_count": 37,
   "metadata": {},
   "outputs": [
    {
     "data": {
      "text/plain": [
       "{'colsample_bylevel': 0.8,\n",
       " 'colsample_bytree': 0.4,\n",
       " 'gamma': 0.25,\n",
       " 'learning_rate': 0.3,\n",
       " 'max_depth': 6,\n",
       " 'n_estimators': 1000,\n",
       " 'reg_alpha': 0.01,\n",
       " 'reg_lambda': 10.0,\n",
       " 'subsample': 0.9}"
      ]
     },
     "execution_count": 37,
     "metadata": {},
     "output_type": "execute_result"
    }
   ],
   "source": [
    "best_params"
   ]
  },
  {
   "cell_type": "code",
   "execution_count": 38,
   "metadata": {},
   "outputs": [
    {
     "data": {
      "text/plain": [
       "XGBClassifier(base_score=0.5, booster='gbtree', colsample_bylevel=0.8,\n",
       "       colsample_bynode=1, colsample_bytree=0.4, gamma=0.25,\n",
       "       learning_rate=0.3, max_delta_step=0, max_depth=6,\n",
       "       min_child_weight=1, missing=None, n_estimators=1000, n_jobs=1,\n",
       "       nthread=None, objective='binary:logistic', random_state=0,\n",
       "       reg_alpha=0.01, reg_lambda=10.0, scale_pos_weight=1, seed=None,\n",
       "       silent=None, subsample=0.9, verbosity=1)"
      ]
     },
     "execution_count": 38,
     "metadata": {},
     "output_type": "execute_result"
    }
   ],
   "source": [
    "clf_best = xgb.XGBClassifier(max_depth=6,colsample_bylevel=0.8,colsample_bytree=0.4,gamma=0.25,learning_rate=0.3,n_estimators=1000,reg_alpha=0.01,reg_lambda=10.0,subsample=0.9)\n",
    "\n",
    "clf_best.fit(df_final_train,y_train)"
   ]
  },
  {
   "cell_type": "code",
   "execution_count": 39,
   "metadata": {},
   "outputs": [],
   "source": [
    "pred_y_test = clf_best.predict(df_final_test)\n",
    "pred_y_train = clf_best.predict(df_final_train)"
   ]
  },
  {
   "cell_type": "code",
   "execution_count": 40,
   "metadata": {},
   "outputs": [
    {
     "name": "stdout",
     "output_type": "stream",
     "text": [
      "Train f1 score 1.0\n",
      "Test f1 score 0.9011996870381639\n"
     ]
    }
   ],
   "source": [
    "print('Train f1 score',f1_score(y_train,pred_y_train))\n",
    "print('Test f1 score',f1_score(y_test,pred_y_test))"
   ]
  },
  {
   "cell_type": "code",
   "execution_count": 41,
   "metadata": {},
   "outputs": [
    {
     "name": "stdout",
     "output_type": "stream",
     "text": [
      "Train confusion_matrix\n"
     ]
    },
    {
     "data": {
      "image/png": "[encoded data removed]",
      "text/plain": [
       "<Figure size 1440x288 with 6 Axes>"
      ]
     },
     "metadata": {
      "needs_background": "light"
     },
     "output_type": "display_data"
    },
    {
     "name": "stdout",
     "output_type": "stream",
     "text": [
      "Test confusion_matrix\n"
     ]
    },
    {
     "data": {
      "image/png": "[encoded data removed]",
      "text/plain": [
       "<Figure size 1440x288 with 6 Axes>"
      ]
     },
     "metadata": {
      "needs_background": "light"
     },
     "output_type": "display_data"
    }
   ],
   "source": [
    "print('Train confusion_matrix')\n",
    "plot_confusion_matrix(y_train,pred_y_train)\n",
    "print('Test confusion_matrix')\n",
    "plot_confusion_matrix(y_test,pred_y_test)"
   ]
  },
  {
   "cell_type": "code",
   "execution_count": 42,
   "metadata": {},
   "outputs": [
    {
     "data": {
      "image/png": "[encoded data removed]",
      "text/plain": [
       "<Figure size 720x1080 with 1 Axes>"
      ]
     },
     "metadata": {
      "needs_background": "light"
     },
     "output_type": "display_data"
    }
   ],
   "source": [
    "features = df_final_train.columns\n",
    "importances = clf_best.feature_importances_\n",
    "indices = (np.argsort(importances))[-55:]\n",
    "plt.figure(figsize=(10,15))\n",
    "plt.title('Feature Importances')\n",
    "plt.barh(range(len(indices)), importances[indices], color='b', align='center')\n",
    "plt.yticks(range(len(indices)), [features[i] for i in indices])\n",
    "plt.xlabel('Relative Importance')\n",
    "plt.show()"
   ]
  },
  {
   "cell_type": "code",
   "execution_count": null,
   "metadata": {},
   "outputs": [],
   "source": []
  }
 ],
 "metadata": {
  "colab": {
   "collapsed_sections": [],
   "name": "FB_Models.ipynb",
   "provenance": [],
   "version": "0.3.2"
  },
  "kernelspec": {
   "display_name": "Python 3",
   "language": "python",
   "name": "python3"
  },
  "language_info": {
   "codemirror_mode": {
    "name": "ipython",
    "version": 3
   },
   "file_extension": ".py",
   "mimetype": "text/x-python",
   "name": "python",
   "nbconvert_exporter": "python",
   "pygments_lexer": "ipython3",
   "version": "3.5.3"
  }
 },
 "nbformat": 4,
 "nbformat_minor": 1
}
